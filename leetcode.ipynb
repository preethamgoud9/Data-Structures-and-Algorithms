{
 "cells": [
  {
   "cell_type": "markdown",
   "metadata": {},
   "source": [
    "time complexity problems "
   ]
  },
  {
   "cell_type": "code",
   "execution_count": 11,
   "metadata": {},
   "outputs": [
    {
     "name": "stdout",
     "output_type": "stream",
     "text": [
      "15\n",
      "120\n"
     ]
    }
   ],
   "source": [
    "l = [1,2,3,4,5]\n",
    "\n",
    "sum = 0\n",
    "for i in l:\n",
    "    sum = sum + i\n",
    "print(sum)\n",
    "\n",
    "\n",
    "product = 1\n",
    "for i in l:\n",
    "    product = product*i\n",
    "print(product)"
   ]
  },
  {
   "cell_type": "code",
   "execution_count": 12,
   "metadata": {},
   "outputs": [
    {
     "name": "stdout",
     "output_type": "stream",
     "text": [
      "1,1\n",
      "1,2\n",
      "1,3\n",
      "1,4\n",
      "1,5\n",
      "2,1\n",
      "2,2\n",
      "2,3\n",
      "2,4\n",
      "2,5\n",
      "3,1\n",
      "3,2\n",
      "3,3\n",
      "3,4\n",
      "3,5\n",
      "4,1\n",
      "4,2\n",
      "4,3\n",
      "4,4\n",
      "4,5\n",
      "5,1\n",
      "5,2\n",
      "5,3\n",
      "5,4\n",
      "5,5\n"
     ]
    }
   ],
   "source": [
    "l = [1,2,3,4,5]\n",
    "for i in l:\n",
    "    for j in l:\n",
    "        print('{},{}'.format(i,j))\n"
   ]
  },
  {
   "cell_type": "code",
   "execution_count": 13,
   "metadata": {},
   "outputs": [
    {
     "name": "stdout",
     "output_type": "stream",
     "text": [
      "* \n",
      "* * \n",
      "* * * \n",
      "* * * * \n",
      "* * * * * \n",
      "* * * * * * \n",
      "* * * * * * * \n",
      "* * * * * * * * \n",
      "* * * * * * * * * \n",
      "* * * * * * * * * * \n"
     ]
    }
   ],
   "source": [
    "rows = int(input(\"Enter the number of rows\"))\n",
    "\n",
    "for i in range(1,rows +1):\n",
    "    for j in range(0,i):\n",
    "        print(\"*\",end=\" \")\n",
    "    print(\"\")\n",
    "    "
   ]
  },
  {
   "cell_type": "code",
   "execution_count": 10,
   "metadata": {},
   "outputs": [],
   "source": [
    "def intToStr(i):\n",
    "    digits = '0123456789'\n",
    "    if i == 0:\n",
    "        return '0'\n",
    "    result = ''\n",
    "    while i>0:\n",
    "        result = digits[i%10] + result\n",
    "        i = i//10\n",
    "    return result\n"
   ]
  },
  {
   "cell_type": "code",
   "execution_count": null,
   "metadata": {},
   "outputs": [],
   "source": []
  }
 ],
 "metadata": {
  "kernelspec": {
   "display_name": "venv",
   "language": "python",
   "name": "python3"
  },
  "language_info": {
   "codemirror_mode": {
    "name": "ipython",
    "version": 3
   },
   "file_extension": ".py",
   "mimetype": "text/x-python",
   "name": "python",
   "nbconvert_exporter": "python",
   "pygments_lexer": "ipython3",
   "version": "3.13.2"
  }
 },
 "nbformat": 4,
 "nbformat_minor": 2
}
